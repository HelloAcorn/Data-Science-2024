{
 "cells": [
  {
   "cell_type": "markdown",
   "id": "34769a31-2895-4b3f-b0ea-818c4fdb55f3",
   "metadata": {},
   "source": [
    "### 미션 Q1\n",
    "* single choice 문제와 여러 응답을 선택할 수 있는 multiple choice 문제가 있다.\n",
    "* 2개를 구분하기 위해 single choice 문항 번호에 \"_\"를 표기하지 않기로 했다.\n",
    "* 조건문과 반복문을 사용하여 아래와 같은 결과가 출력되도록 코드 작성\n",
    "* ['Q2', 'Q3', 'Q4', 'Q5', 'Q8', 'Q9']"
   ]
  },
  {
   "cell_type": "code",
   "execution_count": 37,
   "id": "b705d379-61ac-4e6b-8d3f-98a81a95bcaa",
   "metadata": {},
   "outputs": [
    {
     "name": "stdout",
     "output_type": "stream",
     "text": [
      "['Q2', 'Q3', 'Q4', 'Q5', 'Q8', 'Q9']\n"
     ]
    }
   ],
   "source": [
    "question = ['Q2', 'Q3', 'Q4', 'Q5', 'Q6_1', 'Q6_2', 'Q6_3', 'Q6_4', 'Q6_5', 'Q6_6',\n",
    "       'Q6_7', 'Q6_8', 'Q6_9', 'Q6_10', 'Q6_11', 'Q6_12', 'Q7_1', 'Q7_2',\n",
    "       'Q7_3', 'Q7_4', 'Q7_5', 'Q7_6', 'Q7_7', 'Q8', 'Q9', 'Q10_1', 'Q10_2',\n",
    "       'Q10_3']\n",
    "\n",
    "single_choice=[]\n",
    "multiple_choice=[]\n",
    "\n",
    "for name in question:\n",
    "    if '_' in name:\n",
    "        multiple_choice.append(name)\n",
    "    else:\n",
    "        single_choice.append(name)\n",
    "\n",
    "print(single_choice)\n",
    "#print(multiple_choice)"
   ]
  },
  {
   "cell_type": "markdown",
   "id": "7468ea85-c521-41b4-8bbe-3fa1b11a1203",
   "metadata": {},
   "source": [
    "### 미션 Q2\n",
    "* 국가별 기대수명을 나타내고 있는 데이터입니다. 2011년 부터의 연도별, 국가별 평균 기대수명을 구해주세요.(2011년도 포함)\n",
    "* [필수조건]groupby 나 pivot_table을 활용. groupby로 구할 때 unstack()이라는 기능을 사용하여 아래와 같이 컬럼에 인덱스 값을 올려서 표기할 수 있습니다."
   ]
  },
  {
   "cell_type": "code",
   "execution_count": 40,
   "id": "48c632d9-795c-4c32-8f2d-ea011f8887ef",
   "metadata": {},
   "outputs": [
    {
     "name": "stdout",
     "output_type": "stream",
     "text": [
      "Country  Canada  France  Germany  Great Britain  Japan   USA\n",
      "Year                                                        \n",
      "2011       81.4    82.3     80.5           81.0   82.7  78.7\n",
      "2012       81.6    82.1     80.6           81.0   83.2  78.8\n",
      "2013       81.7    82.3     80.6           81.1   83.4  78.8\n",
      "2014       81.8    82.8     81.2           81.4   83.7  78.9\n",
      "2015       81.9    82.4     80.7           81.0   83.9  78.7\n",
      "2016       82.0    82.7     81.0           81.2   84.1  78.7\n",
      "2017       81.9    82.7     81.1           81.3   84.2  78.6\n",
      "2018       82.0    82.8     81.0           81.3   84.3  78.7\n",
      "2019       82.2    82.9     81.3           81.4   84.4  78.8\n",
      "2020       81.7    82.3     81.1           80.4   84.7  77.0\n"
     ]
    }
   ],
   "source": [
    "import pandas as pd\n",
    "df = pd.read_csv(\"https://raw.githubusercontent.com/mwaskom/seaborn-data/master/healthexp.csv\")\n",
    "\n",
    "#2011년 부터 \n",
    "df_term = df[df['Year']>2010]\n",
    "\n",
    "#groupby , unstack() 사용\n",
    "grouped = df_term.groupby(['Year','Country'])['Life_Expectancy'].mean()\n",
    "pivot_df = grouped.unstack()\n",
    "\n",
    "#결과출력\n",
    "print(pivot_df)\n",
    "\n"
   ]
  },
  {
   "cell_type": "markdown",
   "id": "25cec7cd-6619-40b8-988d-c9fa9c27954c",
   "metadata": {},
   "source": [
    "### 미션 Q3 Markdown 문법을 사용하여, 이번 주에 배운 내용을 정리"
   ]
  },
  {
   "cell_type": "markdown",
   "id": "89370755-5637-4da7-adf5-a1a834fb91f4",
   "metadata": {},
   "source": [
    "\n",
    "## 데이터 분석 환경구성\n",
    "### ANACONDA 설치 \n",
    "* https://www.anaconda.com/download\n",
    "### 주피터 노트북 사용법\n",
    "* `Markdown` : 코드와 함께 문서화 할 수 있는 문법\n",
    "* 코드실행 : `shift + Enter`\n",
    "* ESC 키 누르고\n",
    "  * a 키 누르면 위에 셀 추가\n",
    "  * b 키 누르면 아래에 셀 추가\n",
    "  * dd 키 누르면 셀 삭제\n",
    "* 단축키 : 맥에서는 `shift + command + H`\n",
    "## 데이터 분석 준비하기\n",
    "### 데이터 분석을 위한 파이썬 속성 코스\n",
    "* import\n",
    "* boolean\n",
    "* String and List\n",
    "* String\n",
    "* lists\n",
    "* 제어문(조건문, 반복문)\n",
    "* 문자열\n",
    "* 슬라이싱, startswith, in\n",
    "* 리스트\n",
    "\n",
    "### 판다스 치트시트를 활용한 기초 익히기\n",
    "* 판다스 불러오기 : import pandas as pd\n",
    "* DataFrame : 2차원 자료구조 행렬\n",
    "* Series : 1차원 자료구조 벡터\n",
    "* Subset(일부 값만 불러오기)\n",
    "  * df.head(n) \n",
    "  * df.tail(n)\n",
    "* Summarize Data \n",
    "* Reshaping\n",
    "  * pivot_table\n",
    "  * sort_values\n",
    "  * drop\n",
    "* Grouup Data\n",
    "  * df.groupby()\n",
    "* Plotting : 시각화 작업\n",
    "\n",
    "### 파일 경로 설정방법\n",
    "* %mv : 파일이나 디렉토리를 이동시킬 때 \n",
    "* %pwd : 주피터 노트북 파일이 있는 경로 확인\n",
    "* pd.read_csv : 판다스로 csv파일 불러오기\n",
    "  `df=pd.read_csv(\"파일경로/파일명.csv\")`\n",
    "* cp949 : 인코딩 오류가 발생했을 경우 `encoding=\"cp949\"` 옵션 사용\n",
    "    "
   ]
  },
  {
   "cell_type": "markdown",
   "id": "cd23802d-6b84-473a-a2af-714968d246d3",
   "metadata": {},
   "source": [
    "### 미션 Q4 공공데이터포털에서 원하는 데이터를 다운로드 받아 경로를 설정하고, 주피터 노트북과 판다스를 통해 불러와 보세요.\n",
    "* 인코딩 오류가 발생하면 encoding=\"cp949\" 옵션 사용"
   ]
  },
  {
   "cell_type": "code",
   "execution_count": 32,
   "id": "ea2a9cc7-d236-4f83-83f0-758bddad656c",
   "metadata": {},
   "outputs": [
    {
     "name": "stdout",
     "output_type": "stream",
     "text": [
      "   기준년도 읍면동명  등록동물수  등록품종수  등록소유자수  동물소유자당등록동물수\n",
      "0  2020   탑동   1374     67    1004         1.37\n",
      "1  2020   평동    126     26     101         1.25\n",
      "2  2020  고색동    906     49     683         1.33\n",
      "3  2020  구운동   1370     62    1073         1.28\n",
      "4  2020  권선동   4631     91    3527         1.31\n"
     ]
    }
   ],
   "source": [
    "import pandas as pd\n",
    "df = pd.read_csv(\"data/경기도_수원시_반려동물현황_20230914.csv\", encoding=\"cp949\")\n",
    "df = df[[\"기준년도\",\"읍면동명\",\"등록동물수\",\"등록품종수\",\"등록소유자수\",\"동물소유자당등록동물수\"]]\n",
    "print(df.head(5))"
   ]
  }
 ],
 "metadata": {
  "kernelspec": {
   "display_name": "Python 3 (ipykernel)",
   "language": "python",
   "name": "python3"
  },
  "language_info": {
   "codemirror_mode": {
    "name": "ipython",
    "version": 3
   },
   "file_extension": ".py",
   "mimetype": "text/x-python",
   "name": "python",
   "nbconvert_exporter": "python",
   "pygments_lexer": "ipython3",
   "version": "3.12.4"
  }
 },
 "nbformat": 4,
 "nbformat_minor": 5
}

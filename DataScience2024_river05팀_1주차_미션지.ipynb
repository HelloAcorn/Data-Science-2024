{
  "nbformat": 4,
  "nbformat_minor": 0,
  "metadata": {
    "colab": {
      "provenance": [],
      "authorship_tag": "ABX9TyPmRue/AZ+ENZ4YUcNcWblZ",
      "include_colab_link": true
    },
    "kernelspec": {
      "name": "python3",
      "display_name": "Python 3"
    },
    "language_info": {
      "name": "python"
    }
  },
  "cells": [
    {
      "cell_type": "markdown",
      "metadata": {
        "id": "view-in-github",
        "colab_type": "text"
      },
      "source": [
        "<a href=\"https://colab.research.google.com/github/HelloAcorn/Data-Science-2024/blob/main/DataScience2024_river05%ED%8C%80_1%EC%A3%BC%EC%B0%A8_%EB%AF%B8%EC%85%98%EC%A7%80.ipynb\" target=\"_parent\"><img src=\"https://colab.research.google.com/assets/colab-badge.svg\" alt=\"Open In Colab\"/></a>"
      ]
    },
    {
      "cell_type": "markdown",
      "source": [
        "## 📌Q1. 여러분은 파이썬을 통해 설문조사 문항의 응답내역을 분석하게 되었습니다. 문항별 응답내용에는 하나의 응답만 할 수 있는 single choice 문제와 여러 응답을 선택할 수 있는 multiple choice 문제가 있습니다. 2개를 구분하기 위해 single choice 문항 번호에 \"_\"를 표기하지 않기로 했습니다.\n",
        "\n",
        "- 문항별 응답내역이 'question'에 담겨 있을 때, 조건문과 반복문을 사용하여 아래와 같은 결과가 출력되도록 코드를 작성해보세요."
      ],
      "metadata": {
        "id": "e61bul98H_v2"
      }
    },
    {
      "cell_type": "code",
      "source": [
        "# 응답 설문 문항 리스트\n",
        "questions = ['Q2', 'Q3', 'Q4', 'Q5', 'Q6_1', 'Q6_2', 'Q6_3', 'Q6_4', 'Q6_5', 'Q6_6',\n",
        "             'Q6_7', 'Q6_8', 'Q6_9', 'Q6_10', 'Q6_11', 'Q6_12', 'Q7_1', 'Q7_2',\n",
        "             'Q7_3', 'Q7_4', 'Q7_5', 'Q7_6', 'Q7_7', 'Q8', 'Q9', 'Q10_1', 'Q10_2',\n",
        "             'Q10_3']\n",
        "\n",
        "# single choice 문항을 저장할 리스트\n",
        "single_choice= []\n",
        "\n"
      ],
      "metadata": {
        "id": "i7H_wSxPIGnO"
      },
      "execution_count": 19,
      "outputs": []
    },
    {
      "cell_type": "code",
      "source": [
        "print(\"여기에서부터 코드를 작성하세요\")"
      ],
      "metadata": {
        "colab": {
          "base_uri": "https://localhost:8080/"
        },
        "id": "wwF7WEnNNnlK",
        "outputId": "ae656b78-681f-4b5f-938e-2505a86613c0"
      },
      "execution_count": 20,
      "outputs": [
        {
          "output_type": "stream",
          "name": "stdout",
          "text": [
            "여기에서부터 코드를 작성하세요\n"
          ]
        }
      ]
    },
    {
      "cell_type": "markdown",
      "source": [
        "## 📌Q2. 한스 로슬링(Hans Rosling, 1948년 7월 27일 ~ 2017년 2월 7일)은 스웨덴의 의사이자 통계학자로 비영리 벤처 갭마인더 재단의 공동설립자이기도 합니다. 빅데이터를 가장 잘 활용하는 보건 통계학자로 알려져 있습니다. 베스트셀러 책인 \"팩트풀니스\" 저자이기도 합니다. 갭마인더 사이트에서는 연도별, 국가별 GDP와 기대수명 데이터를 제공하고 있는데, 대표적으로 파이썬 라이브러리 중 'seaborn'에서 제공되는 예제 데이터가 있습니다. 오늘은 이 데이터를 활용해 문제를 풀어보겠습니다.\n",
        "\n",
        "- 다음의 데이터는 연도, 국가별 기대수명을 나타내고 있는 데이터 입니다.**2011년 부터의 연도별, 국가별 평균 기대수명**을 구해주세요. (2011년도 포함되게 구합니다.)\n",
        "\n",
        "- [필수 조건] groupby 나 pivot_table을 활용합니다. groupby 로 구할 때 unstack()이라는 기능을 사용하여 아래와 같이 컬럼에 인덱스 값을 올려서 표기할 수 있습니다.\n",
        "- 만약 행에는 '연도'가, 열에 '국가'가 들어있고 수치 데이터의 결과값이 아래와 같다면, 출력형태는 조금 달라도 괜찮습니다.\n"
      ],
      "metadata": {
        "id": "Dj6RpldeIyTu"
      }
    },
    {
      "cell_type": "code",
      "source": [
        "import pandas as pd\n",
        "\n",
        "# 데이터 읽기\n",
        "df = pd.read_csv(\"https://raw.githubusercontent.com/mwaskom/seaborn-data/master/healthexp.csv\")\n",
        "\n",
        "# 데이터 확인\n",
        "print(df.head(20))\n",
        "\n",
        "####################여기서 부터 이 셀의 끝까지 코드를 드래그하고, ctrl+/ 키를 누르면 코드 주석이 해제됩니다! ######################\n",
        "print(\"---------------------------------------2011년 이후---------------------------------------------\")\n",
        "# 2011년부터의 데이터 필터링\n",
        "df_recent = df[df['Year'] >= 2011]\n",
        "\n",
        "# 데이터 확인\n",
        "print(df_recent.head(20))"
      ],
      "metadata": {
        "colab": {
          "base_uri": "https://localhost:8080/"
        },
        "id": "7SSHS4oWI1nn",
        "outputId": "f7aa5160-5ef7-4f55-a833-7918c2aeb262"
      },
      "execution_count": 21,
      "outputs": [
        {
          "output_type": "stream",
          "name": "stdout",
          "text": [
            "    Year        Country  Spending_USD  Life_Expectancy\n",
            "0   1970        Germany       252.311             70.6\n",
            "1   1970         France       192.143             72.2\n",
            "2   1970  Great Britain       123.993             71.9\n",
            "3   1970          Japan       150.437             72.0\n",
            "4   1970            USA       326.961             70.9\n",
            "5   1971         Canada       313.391             72.8\n",
            "6   1971        Germany       298.251             70.8\n",
            "7   1971  Great Britain       134.172             71.9\n",
            "8   1971          Japan       163.854             72.9\n",
            "9   1971            USA       357.988             71.2\n",
            "10  1972        Germany       337.364             71.0\n",
            "11  1972          Japan       185.390             73.2\n",
            "12  1972            USA       397.097             71.2\n",
            "13  1973        Germany       384.541             71.3\n",
            "14  1973          Japan       205.778             73.4\n",
            "15  1973            USA       439.302             71.4\n",
            "16  1974        Germany       452.744             71.5\n",
            "17  1974          Japan       242.018             73.7\n",
            "18  1974            USA       495.114             72.0\n",
            "19  1975        Germany       532.481             71.4\n",
            "---------------------------------------2011년 이후---------------------------------------------\n",
            "     Year        Country  Spending_USD  Life_Expectancy\n",
            "214  2011         Canada      4228.962             81.4\n",
            "215  2011        Germany      4566.678             80.5\n",
            "216  2011         France      4161.698             82.3\n",
            "217  2011  Great Britain      3495.652             81.0\n",
            "218  2011          Japan      3740.756             82.7\n",
            "219  2011            USA      8079.467             78.7\n",
            "220  2012         Canada      4336.249             81.6\n",
            "221  2012        Germany      4745.546             80.6\n",
            "222  2012         France      4299.434             82.1\n",
            "223  2012  Great Britain      3614.131             81.0\n",
            "224  2012          Japan      3970.765             83.2\n",
            "225  2012            USA      8346.064             78.8\n",
            "226  2013         Canada      4428.753             81.7\n",
            "227  2013        Germany      4951.677             80.6\n",
            "228  2013         France      4544.964             82.3\n",
            "229  2013  Great Britain      3667.636             81.1\n",
            "230  2013          Japan      4308.252             83.4\n",
            "231  2013            USA      8519.620             78.8\n",
            "232  2014         Canada      4536.810             81.8\n",
            "233  2014        Germany      5151.709             81.2\n"
          ]
        }
      ]
    },
    {
      "cell_type": "code",
      "source": [
        "print(\"여기에서부터 코드를 작성하세요\")"
      ],
      "metadata": {
        "colab": {
          "base_uri": "https://localhost:8080/"
        },
        "id": "iQQff5cCNrs0",
        "outputId": "9ef4204c-8497-4fe5-8614-324821149c08"
      },
      "execution_count": 22,
      "outputs": [
        {
          "output_type": "stream",
          "name": "stdout",
          "text": [
            "여기에서부터 코드를 작성하세요\n"
          ]
        }
      ]
    },
    {
      "cell_type": "markdown",
      "source": [
        "##📌Q3. Jupyter notebook 은 문서와 코드를 함께 작성할 수 있다는 점이 장점입니다. Jupyter notebook 에서 지원하는 Markdown 문법을 사용하여, 이번 주에 배운 내용을 정리해 보세요!\n",
        "\n",
        "이번주 학습 내용은 다음 링크를 참고해주세요! [1주차 학습 내용](스터디 전용 강좌 1주차 학습 안내 링크)\n",
        "1. 데이터 분석 환경 구성:https://www.boostcourse.org/ds112/joinLectures/28140\n",
        "2. 데이터 분석 준비하기:https://www.boostcourse.org/ds112/joinLectures/28138"
      ],
      "metadata": {
        "id": "SyU-7K7dKRC2"
      }
    },
    {
      "cell_type": "markdown",
      "source": [
        "### 이번 주에 배운 내용 작성하기.\n",
        "### 이번 주에 배운 내용 작성하기.\n",
        "### 이번 주에 배운 내용 작성하기.\n",
        "### 이번 주에 배운 내용 작성하기.\n",
        "### 이번 주에 배운 내용 작성하기.\n",
        "### 이번 주에 배운 내용 작성하기.\n",
        "### 이번 주에 배운 내용 작성하기.\n",
        "### 이번 주에 배운 내용 작성하기.\n",
        "### 이번 주에 배운 내용 작성하기.\n",
        "### 이번 주에 배운 내용 작성하기."
      ],
      "metadata": {
        "id": "6PCx3uhdMp2Q"
      }
    },
    {
      "cell_type": "markdown",
      "source": [
        "## 📌Q4. 앞으로 우리는 공공데이터포털에서 데이터를 다운로드 받아 과정을 진행할 예정입니다. 본격적인 학습 이전에! 데이터를 다루는 방법이 익숙해지도록 한번 더 연습해보고, 어떤 문제를 풀 수 있을지도 함께 고민해보아요!\n",
        "\n",
        "- 공공데이터포털에서 원하는 데이터를 다운로드 받아 경로를 설정하고, 주피터 노트북과 판다스를 통해 불러와 보세요!\n",
        "- 어떤 데이터를 사용해야할지 고민된다면 다음 링크의 데이터를 다운로드 받아도 좋습니다.\n",
        "- [참고 예시] 공공데이터포털 - 서울특별시 강남구_생활폐기물배출량 (https://www.data.go.kr/data/15107375/fileData.do)\n",
        "\n",
        "- 이 때, 인코딩 오류가 발생한다면 encoding=\"cp949\" 옵션을 사용해 주세요!\n",
        "cp949는 한글 윈도우에서 사용하는 인코딩 방식이랍니다. 인코딩과 관련된 자세한 내용은 다음을 참고해 주세요.\n",
        "  - 문자 인코딩 - 위키백과, 우리 모두의 백과사전\n",
        "  - 파일을 열거나 저장할 때 텍스트 인코딩 선택\n"
      ],
      "metadata": {
        "id": "LSXzfA6iKcTB"
      }
    },
    {
      "cell_type": "code",
      "source": [
        "print(\"여기에서부터 코드를 작성하세요\")"
      ],
      "metadata": {
        "colab": {
          "base_uri": "https://localhost:8080/"
        },
        "id": "9c_omCPbNsUT",
        "outputId": "5bfb1da2-1fba-49a0-f3be-2e67d534dbb9"
      },
      "execution_count": 23,
      "outputs": [
        {
          "output_type": "stream",
          "name": "stdout",
          "text": [
            "여기에서부터 코드를 작성하세요\n"
          ]
        }
      ]
    }
  ]
}